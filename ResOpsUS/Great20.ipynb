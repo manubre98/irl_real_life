{
 "cells": [
  {
   "cell_type": "markdown",
   "id": "8487e0d1",
   "metadata": {},
   "source": [
    "## We keep only data for which we have more than 25 years of observation"
   ]
  },
  {
   "cell_type": "code",
   "execution_count": 1,
   "id": "4d15d27e",
   "metadata": {},
   "outputs": [],
   "source": [
    "import csv\n",
    "import pandas as pd\n",
    "import numpy as np\n",
    "import sklearn\n",
    "import matplotlib\n",
    "from sklearn.preprocessing import MinMaxScaler\n",
    "from sklearn.linear_model import LinearRegression\n",
    "import pickle \n",
    "from tol_colors import tol_cmap\n",
    "import calendar\n",
    "import os\n",
    "from datetime import datetime, timedelta\n",
    "import re"
   ]
  },
  {
   "cell_type": "code",
   "execution_count": 35,
   "id": "f0d3a92a",
   "metadata": {},
   "outputs": [],
   "source": [
    "data = pd.read_csv('../ResOpsUS/' + \"time_series_inventory.csv\", delimiter=',')\n",
    "base_dir = '../ResOpsUS/time_series/'\n",
    "idxs = os.listdir(base_dir)\n",
    "idxs = [int(re.findall(\"\\d+\", idx)[0]) for idx in idxs]"
   ]
  },
  {
   "cell_type": "code",
   "execution_count": 36,
   "id": "13b5cf1c",
   "metadata": {},
   "outputs": [],
   "source": [
    "sol = []\n",
    "for idx in idxs:\n",
    "    df = pd.read_csv(base_dir + \"ResOpsUS_\" + str(idx) + \".csv\", delimiter=',')\n",
    "    sol.append((idx, int(len(df)/365)))\n",
    "    \n",
    "great20 = [idx for idx in sol if idx[1] >= 20]"
   ]
  },
  {
   "cell_type": "code",
   "execution_count": 4,
   "id": "e227114b",
   "metadata": {},
   "outputs": [
    {
     "data": {
      "text/plain": [
       "489"
      ]
     },
     "execution_count": 4,
     "metadata": {},
     "output_type": "execute_result"
    }
   ],
   "source": [
    "len(sol)"
   ]
  },
  {
   "cell_type": "code",
   "execution_count": 5,
   "id": "4c62c19f",
   "metadata": {},
   "outputs": [
    {
     "data": {
      "text/plain": [
       "406"
      ]
     },
     "execution_count": 5,
     "metadata": {},
     "output_type": "execute_result"
    }
   ],
   "source": [
    "len(great20)"
   ]
  },
  {
   "cell_type": "markdown",
   "id": "d743ace8",
   "metadata": {},
   "source": [
    "## Number of dams for each objective [as per GRanD]"
   ]
  },
  {
   "cell_type": "code",
   "execution_count": 37,
   "id": "9bb64784",
   "metadata": {},
   "outputs": [
    {
     "data": {
      "text/plain": [
       "98"
      ]
     },
     "execution_count": 37,
     "metadata": {},
     "output_type": "execute_result"
    }
   ],
   "source": [
    "_dir = os.path.join('../ResOpsUS/Images/',\"irrigation_all\")\n",
    "idxs = os.listdir(_dir)\n",
    "idxs = [int(re.findall(\"\\d+\", idx)[0]) for idx in idxs if \"DS\" not in idx]\n",
    "irrigation_idx = np.intersect1d(great20, idxs)\n",
    "len(irrigation_idx)"
   ]
  },
  {
   "cell_type": "code",
   "execution_count": 38,
   "id": "4da95ad1",
   "metadata": {},
   "outputs": [
    {
     "data": {
      "text/plain": [
       "52"
      ]
     },
     "execution_count": 38,
     "metadata": {},
     "output_type": "execute_result"
    }
   ],
   "source": [
    "_dir = os.path.join('../ResOpsUS/Images/',\"hydro_all\")\n",
    "idxs = os.listdir(_dir)\n",
    "idxs = [int(re.findall(\"\\d+\", idx)[0]) for idx in idxs if \"DS\" not in idx]\n",
    "hydro_idx = np.intersect1d(great20, idxs)\n",
    "len(hydro_idx)"
   ]
  },
  {
   "cell_type": "code",
   "execution_count": 39,
   "id": "758910f1",
   "metadata": {},
   "outputs": [
    {
     "data": {
      "text/plain": [
       "41"
      ]
     },
     "execution_count": 39,
     "metadata": {},
     "output_type": "execute_result"
    }
   ],
   "source": [
    "_dir = os.path.join('../ResOpsUS/Images/',\"supply_all\")\n",
    "idxs = os.listdir(_dir)\n",
    "idxs = [int(re.findall(\"\\d+\", idx)[0]) for idx in idxs if \"DS\" not in idx]\n",
    "supply_idx = np.intersect1d(great20, idxs)\n",
    "len(supply_idx)"
   ]
  },
  {
   "cell_type": "code",
   "execution_count": 40,
   "id": "34d66951",
   "metadata": {},
   "outputs": [
    {
     "data": {
      "text/plain": [
       "174"
      ]
     },
     "execution_count": 40,
     "metadata": {},
     "output_type": "execute_result"
    }
   ],
   "source": [
    "_dir = os.path.join('../ResOpsUS/Images/',\"flood_all\")\n",
    "idxs = os.listdir(_dir)\n",
    "idxs = [int(re.findall(\"\\d+\", idx)[0]) for idx in idxs if \"DS\" not in idx]\n",
    "flood_idx = np.intersect1d(great20, idxs)\n",
    "len(flood_idx)"
   ]
  },
  {
   "cell_type": "code",
   "execution_count": 41,
   "id": "4c1a7df0",
   "metadata": {},
   "outputs": [],
   "source": [
    "all_idx = np.concatenate((irrigation_idx, hydro_idx, supply_idx, flood_idx))"
   ]
  },
  {
   "cell_type": "code",
   "execution_count": 42,
   "id": "ed86eedf",
   "metadata": {},
   "outputs": [
    {
     "data": {
      "text/plain": [
       "array([  55,   57,   60,   63,   87,  114,  116,  131,  132,  157,  165,\n",
       "        182,  198,  210,  292,  293,  295,  299,  300,  310,  317,  319,\n",
       "        320,  355,  361,  362,  367,  368,  372,  374,  378,  382,  384,\n",
       "        385,  386,  398,  399,  413,  415,  416,  419,  421,  442,  445,\n",
       "        448,  449,  450,  469,  470,  471,  473,  477,  492,  493,  502,\n",
       "        506,  507,  514,  517,  518,  519,  527,  531,  536,  542,  546,\n",
       "        549,  554,  567,  572,  595,  601,  604,  654,  780,  784,  798,\n",
       "        837,  868,  872,  893,  931,  936,  938,  939,  953,  956,  962,\n",
       "        976,  987, 1095, 1109, 1140, 1242, 1266, 1280, 1294, 1296,   41,\n",
       "         42,   80,   85,   89,   93,  133,  192,  204,  297,  305,  316,\n",
       "        364,  373,  405,  423,  541,  545,  597,  616,  913,  920,  929,\n",
       "        989,  993, 1044, 1053, 1112, 1269, 1283, 1291, 1292, 1297, 1752,\n",
       "       1756, 1758, 1761, 1762, 1768, 1787, 1800, 1817, 1823, 1834, 1835,\n",
       "       1851, 1872, 1883, 7306, 7308, 7313, 7318,   54,  153,  191,  451,\n",
       "        467,  488,  497,  500,  505,  508,  522,  524,  529,  530,  533,\n",
       "        557,  610,  625,  629,  644,  758,  882,  885,  978, 1068, 1151,\n",
       "       1152, 1176, 1186, 1194, 1197, 1220, 1236, 1245, 1247, 1277, 1302,\n",
       "       1776, 1782, 1796, 2186,   56,   88,   90,   92,   97,   99,  100,\n",
       "        107,  148,  163,  169,  307,  338,  390,  391,  393,  438,  456,\n",
       "        511,  600,  613,  657,  740,  753,  774,  777,  806,  836,  854,\n",
       "        861,  870,  884,  895,  898,  907,  911,  924,  948,  952,  955,\n",
       "        957,  958,  961,  963,  964,  965,  967,  968,  969,  972,  974,\n",
       "        975,  979,  980,  981,  982,  983,  991,  998, 1000, 1001, 1003,\n",
       "       1006, 1007, 1014, 1016, 1017, 1019, 1020, 1021, 1023, 1026, 1027,\n",
       "       1028, 1032, 1033, 1036, 1042, 1048, 1050, 1060, 1067, 1070, 1077,\n",
       "       1084, 1086, 1092, 1093, 1101, 1120, 1121, 1122, 1123, 1124, 1125,\n",
       "       1128, 1134, 1135, 1139, 1144, 1145, 1183, 1188, 1202, 1237, 1287,\n",
       "       1315, 1585, 1586, 1587, 1592, 1600, 1606, 1615, 1617, 1619, 1620,\n",
       "       1631, 1634, 1636, 1645, 1650, 1654, 1655, 1659, 1683, 1691, 1699,\n",
       "       1703, 1706, 1707, 1709, 1712, 1713, 1714, 1716, 1718, 1723, 1726,\n",
       "       1733, 1735, 1739, 1740, 1741, 1742, 1744, 1754, 1755, 1763, 1765,\n",
       "       1767, 1770, 1774, 1775, 1777, 1781, 1801, 1818, 1828, 1833, 1841,\n",
       "       1843, 1846, 1848, 1855, 1862, 1863, 1864, 1869, 1879, 1896, 2193,\n",
       "       7311, 7317])"
      ]
     },
     "execution_count": 42,
     "metadata": {},
     "output_type": "execute_result"
    }
   ],
   "source": [
    "all_idx"
   ]
  }
 ],
 "metadata": {
  "kernelspec": {
   "display_name": "Python 3",
   "language": "python",
   "name": "python3"
  },
  "language_info": {
   "codemirror_mode": {
    "name": "ipython",
    "version": 3
   },
   "file_extension": ".py",
   "mimetype": "text/x-python",
   "name": "python",
   "nbconvert_exporter": "python",
   "pygments_lexer": "ipython3",
   "version": "3.6.9"
  }
 },
 "nbformat": 4,
 "nbformat_minor": 5
}
