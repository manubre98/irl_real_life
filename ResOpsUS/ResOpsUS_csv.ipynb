{
 "cells": [
  {
   "cell_type": "markdown",
   "id": "c0193cf3",
   "metadata": {},
   "source": [
    "# Produce Excel file of the results"
   ]
  },
  {
   "cell_type": "code",
   "execution_count": 193,
   "id": "90f32f7d",
   "metadata": {},
   "outputs": [],
   "source": [
    "import pandas as pd\n",
    "import numpy as np\n",
    "import pickle \n",
    "import os\n",
    "import shutil\n",
    "import warnings\n",
    "import subprocess\n",
    "from subprocess import PIPE\n",
    "import matplotlib.pyplot as plt\n",
    "\n",
    "warnings.filterwarnings('ignore')"
   ]
  },
  {
   "cell_type": "code",
   "execution_count": 7,
   "id": "210f2337",
   "metadata": {},
   "outputs": [],
   "source": [
    "def switch_obj(_str):\n",
    "    if _str == \"USE_IRRI,C,5\":\n",
    "        _str = \"Irrigation\"\n",
    "    if _str == \"USE_ELEC,C,5\":\n",
    "        _str = \"Hydroelectric\"\n",
    "    if _str == \"USE_SUPP,C,5\":\n",
    "        _str = \"Water Supply\"\n",
    "    if _str == \"USE_FCON,C,5\":\n",
    "        _str = \"Flood Control\"\n",
    "    if _str == \"USE_RECR,C,5\":\n",
    "        _str = \"Recreation\"\n",
    "    return _str\n"
   ]
  },
  {
   "cell_type": "code",
   "execution_count": 22,
   "id": "b23adf75",
   "metadata": {},
   "outputs": [],
   "source": [
    "idx_one_obj = [55, 57, 60, 63, 157, 165, 292, 295, 317, 319, 320, 361, 368, 372, 374, 378, 385, 386, 399, 419, 445, 448, 470, 471, 473, 506, 519, 527, 536, 549, 654, 868, 931, 987, 93, 204, 405, 616, 920, 1291, 1292, 1787, 1817, 1823,1800, 56, 88, 90, 99, 777, 836, 854, 861, 957, 965, 972, 974, 982, 1000, 1017, 1019, 1021, 1027, 1101, 1237, 1586, 1587, 1592, 1600, 1606, 1617, 1619, 1620, 1631, 1636, 1645, 1654, 1691, 1699, 1706, 1709, 1712, 1713, 1718, 1726, 1733, 1735, 1740, 1741, 1843, 1848, 1855, 1864, 1869, 163, 907, 911, 969]\n"
   ]
  },
  {
   "cell_type": "code",
   "execution_count": 23,
   "id": "625f579f",
   "metadata": {},
   "outputs": [
    {
     "data": {
      "text/plain": [
       "98"
      ]
     },
     "execution_count": 23,
     "metadata": {},
     "output_type": "execute_result"
    }
   ],
   "source": [
    "len(idx_one_obj)"
   ]
  },
  {
   "cell_type": "code",
   "execution_count": 73,
   "id": "daae91e1",
   "metadata": {},
   "outputs": [],
   "source": [
    "idx_multi_obj = [55, 57, 60, 63, 87, 114, 116, 131, 132, 157, 165, 182, 198, 210, 292, 293, 295, 300, 317, 319, 320, 361, 362, 367, 368, 372, 374, 378, 382, 384, 385, 386, 398, 399, 413, 415, 416, 419, 421, 442, 445, 448, 449, 450, 469, 470, 471, 473, 477, 492, 493, 502, 506, 514, 517, 518, 519, 527, 531, 536, 546, 549, 554, 567, 572, 595, 601, 604, 654, 780, 784, 868, 872, 893, 936, 938, 939, 953, 956, 976, 931, 1095, 1242, 192, 373, 545, 987, 1109, 438, 456, 657, 898, 310, 542, 41, 42, 80, 89, 93, 204, 297, 305, 364, 405, 423, 541, 597, 616, 913, 920, 929, 1044, 1053, 1112, 1269, 1283, 1291, 1292, 1297, 1752, 1756, 1758, 1768, 1787, 1817, 1823, 1834, 1835, 1851, 1872, 7306, 7308, 7313, 7318, 1754, 1774, 1801, 1879, 1896, 133, 299, 316, 993, 355, 798, 837, 962, 1140, 1280, 1294, 1296, 85, 989, 1761, 1762, 1800, 1186, 1194, 1220, 1236, 1247, 1277, 1302, 1776, 1782, 56, 88, 90, 92, 97, 99, 100, 107, 148, 307, 338, 390, 391, 393, 511, 613, 740, 753, 777, 836, 854, 861, 870, 884, 895, 924, 948, 952, 955, 957, 958, 961, 963, 964, 965, 967, 968, 972, 974, 975, 979, 980, 981, 982, 983, 991, 998, 1000, 1001, 1003, 1006, 1007, 1014, 1016, 1017, 1019, 1020, 1021, 1023, 1026, 1027, 1028, 1032, 1033, 1036, 1042, 1048, 1050, 1060, 1067, 1077, 1084, 1086, 1092, 1093, 1101, 1120, 1121, 1122, 1123, 1124, 1125, 1134, 1135, 1144, 1237, 1586, 1587, 1592, 1600, 1606, 1617, 1619, 1620, 1631, 1636, 1645, 1650, 1654, 1655, 1659, 1683, 1691, 1699, 1703, 1706, 1707, 1709, 1712, 1713, 1714, 1716, 1718, 1723, 1726, 1733, 1735, 1739, 1740, 1741, 1742, 1744, 1755, 1763, 1765, 1767, 1770, 1775, 1777, 1781, 1818, 1828, 1833, 1841, 1843, 1846, 1848, 1855, 1862, 1863, 1864, 1869, 7311, 7317, 163, 169, 600, 907, 911, 969, 1070, 1128, 1183, 1202, 1585, 1615, 2193]\n"
   ]
  },
  {
   "cell_type": "code",
   "execution_count": 31,
   "id": "ffa6875a",
   "metadata": {},
   "outputs": [
    {
     "data": {
      "text/plain": [
       "322"
      ]
     },
     "execution_count": 31,
     "metadata": {},
     "output_type": "execute_result"
    }
   ],
   "source": [
    "len(idx_multi_obj)"
   ]
  },
  {
   "cell_type": "code",
   "execution_count": 141,
   "id": "07bd3354",
   "metadata": {},
   "outputs": [
    {
     "data": {
      "text/plain": [
       "[165,\n",
       " 169,\n",
       " 204,\n",
       " 317,\n",
       " 320,\n",
       " 386,\n",
       " 399,\n",
       " 405,\n",
       " 415,\n",
       " 445,\n",
       " 448,\n",
       " 493,\n",
       " 517,\n",
       " 518,\n",
       " 545,\n",
       " 777,\n",
       " 798,\n",
       " 929,\n",
       " 958,\n",
       " 983,\n",
       " 1020,\n",
       " 1092,\n",
       " 1109,\n",
       " 1194,\n",
       " 1294,\n",
       " 1650,\n",
       " 1754,\n",
       " 1756,\n",
       " 1762,\n",
       " 1763,\n",
       " 1777,\n",
       " 1787]"
      ]
     },
     "execution_count": 141,
     "metadata": {},
     "output_type": "execute_result"
    }
   ],
   "source": [
    "np.random.seed(12345)\n",
    "sorted(np.random.choice(idx_multi_obj, size = int(len(idx_multi_obj)*0.1), replace=False))"
   ]
  },
  {
   "cell_type": "code",
   "execution_count": 154,
   "id": "97dc8d10",
   "metadata": {},
   "outputs": [
    {
     "data": {
      "text/plain": [
       "[41,\n",
       " 88,\n",
       " 292,\n",
       " 293,\n",
       " 310,\n",
       " 362,\n",
       " 372,\n",
       " 399,\n",
       " 421,\n",
       " 450,\n",
       " 519,\n",
       " 542,\n",
       " 613,\n",
       " 784,\n",
       " 952,\n",
       " 969,\n",
       " 983,\n",
       " 1001,\n",
       " 1019,\n",
       " 1060,\n",
       " 1124,\n",
       " 1135,\n",
       " 1144,\n",
       " 1280,\n",
       " 1296,\n",
       " 1615,\n",
       " 1617,\n",
       " 1650,\n",
       " 1763,\n",
       " 1800,\n",
       " 1863,\n",
       " 7306]"
      ]
     },
     "execution_count": 154,
     "metadata": {},
     "output_type": "execute_result"
    }
   ],
   "source": [
    "np.random.seed(333)\n",
    "sorted(np.random.choice(idx_multi_obj, size = int(len(idx_multi_obj)*0.1), replace=False))"
   ]
  },
  {
   "cell_type": "code",
   "execution_count": 11,
   "id": "d4605149",
   "metadata": {},
   "outputs": [
    {
     "data": {
      "text/plain": [
       "array([  41,   42,   60,   80,   85,   87,   89,   92,   97,   99,  100,\n",
       "        107,  114,  116,  131,  132,  148,  153,  182,  192,  198,  210,\n",
       "        293,  297,  300,  305,  307,  310,  338,  355,  362,  364,  367,\n",
       "        373,  382,  384,  390,  391,  393,  398,  405,  413,  415,  416,\n",
       "        419,  421,  423,  438,  442,  449,  450,  451,  456,  467,  469,\n",
       "        477,  488,  492,  493,  497,  500,  502,  505,  511,  514,  517,\n",
       "        518,  522,  524,  529,  530,  531,  541,  542,  554,  567,  572,\n",
       "        597,  601,  610,  613,  625,  629,  644,  740,  753,  758,  774,\n",
       "        780,  784,  798,  837,  868,  870,  872,  882,  884,  885,  893,\n",
       "        895,  898,  913,  924,  929,  936,  938,  939,  948,  952,  953,\n",
       "        955,  956,  958,  961,  962,  963,  964,  967,  968,  972,  975,\n",
       "        976,  978,  979,  980,  981,  983,  989,  991,  998, 1001, 1003,\n",
       "       1006, 1014, 1016, 1020, 1023, 1026, 1027, 1028, 1032, 1033, 1036,\n",
       "       1042, 1044, 1048, 1050, 1053, 1060, 1067, 1077, 1084, 1086, 1092,\n",
       "       1093, 1095, 1112, 1120, 1121, 1122, 1123, 1124, 1125, 1134, 1135,\n",
       "       1139, 1140, 1144, 1145, 1151, 1152, 1176, 1186, 1194, 1197, 1220,\n",
       "       1236, 1242, 1247, 1266, 1269, 1277, 1280, 1287, 1294, 1296, 1297,\n",
       "       1302, 1315, 1634, 1650, 1655, 1659, 1683, 1703, 1716, 1741, 1742,\n",
       "       1752, 1754, 1755, 1756, 1758, 1761, 1762, 1763, 1765, 1767, 1768,\n",
       "       1770, 1774, 1775, 1776, 1777, 1782, 1796, 1801, 1818, 1828, 1833,\n",
       "       1834, 1835, 1841, 1846, 1851, 1862, 1863, 1872, 1879, 1883, 1896,\n",
       "       7306, 7308, 7311, 7313, 7317, 7318])"
      ]
     },
     "execution_count": 11,
     "metadata": {},
     "output_type": "execute_result"
    }
   ],
   "source": [
    "np.setxor1d([  55,   57,   60,   63,   87,  114,  116,  131,  132,  165,  182,\n",
    "        198,  210,  293,  295,  300,  310,  317,  320,  355,  361,  362,\n",
    "        367,  368,  372,  374,  378,  382,  384,  385,  386,  398,  399,\n",
    "        413,  415,  416,  419,  421,  442,  445,  449,  450,  469,  470,\n",
    "        473,  477,  492,  493,  502,  506,  514,  517,  518,  519,  531,\n",
    "        536,  542,  546,  549,  554,  567,  572,  601,  604,  654,  780,\n",
    "        784,  798,  837,  868,  872,  893,  936,  938,  939,  953,  956,\n",
    "        962,  976,  987, 1095, 1140, 1242, 1266, 1280, 1294, 1296,   41,\n",
    "         42,   80,   85,   89,   93,  192,  204,  297,  305,  364,  373,\n",
    "        405,  423,  541,  545,  597,  616,  913,  920,  929,  989, 1044,\n",
    "       1053, 1112, 1269, 1283, 1291, 1292, 1297, 1752, 1756, 1758, 1761,\n",
    "       1762, 1768, 1787, 1800, 1817, 1823, 1834, 1835, 1851, 1872, 1883,\n",
    "       7306, 7308, 7313, 7318,  153,  451,  467,  488,  497,  500,  505,\n",
    "        522,  524,  529,  530,  610,  625,  629,  644,  758,  882,  885,\n",
    "        978, 1151, 1152, 1176, 1186, 1194, 1197, 1220, 1236, 1247, 1277,\n",
    "       1302, 1776, 1782, 1796,   56,   88,   90,   92,   97,   99,  100,\n",
    "        107,  148,  307,  338,  390,  391,  393,  438,  456,  511,  613,\n",
    "        740,  753,  774,  777,  836,  854,  861,  870,  884,  895,  898,\n",
    "        924,  948,  952,  955,  957,  958,  961,  963,  964,  965,  967,\n",
    "        968,  972,  974,  975,  979,  980,  981,  982,  983,  991,  998,\n",
    "       1000, 1001, 1003, 1006, 1007, 1014, 1016, 1017, 1019, 1020, 1021,\n",
    "       1023, 1026, 1027, 1028, 1032, 1033, 1036, 1042, 1048, 1050, 1060,\n",
    "       1067, 1077, 1084, 1086, 1092, 1093, 1101, 1120, 1121, 1122, 1123,\n",
    "       1124, 1125, 1134, 1135, 1139, 1144, 1145, 1188, 1237, 1287, 1315,\n",
    "       1586, 1587, 1592, 1600, 1606, 1617, 1619, 1620, 1631, 1634, 1636,\n",
    "       1645, 1650, 1654, 1655, 1659, 1683, 1691, 1699, 1703, 1706, 1707,\n",
    "       1709, 1712, 1713, 1714, 1716, 1718, 1723, 1726, 1733, 1735, 1739,\n",
    "       1740, 1741, 1742, 1744, 1754, 1755, 1763, 1765, 1767, 1770, 1774,\n",
    "       1775, 1777, 1781, 1801, 1818, 1828, 1833, 1841, 1843, 1846, 1848,\n",
    "       1855, 1862, 1863, 1864, 1869, 1879, 1896, 7311, 7317],\n",
    "              [55, 57, 63, 165, 295, 317, 320, 361, 368, 372, 374, 378, 385, 386, 399, 445, 470, 473, 506, 519, 536, 545, 546, 549, 604, 654, 987,\n",
    "                   93, 204, 616, 920, 1283, 1291, 1292, 1787, 1817, 1823,\n",
    "                   56, 88, 90, 777, 836, 854, 861, 957, 965, 974, 982, 1000, 1007, 1017, 1019, 1021, 1101, 1188, 1237, 1586, 1587, 1592, 1600, 1606, 1617, 1619, 1620, 1631, 1636, 1645, 1654, 1691, 1699, 1706, 1707, 1709, 1712, 1713, 1714, 1718, 1723, 1726, 1733, 1735, 1739, 1740, 1744, 1781, 1800, 1843, 1848, 1855, 1864, 1869])"
   ]
  },
  {
   "cell_type": "code",
   "execution_count": 15,
   "id": "581c98d7",
   "metadata": {},
   "outputs": [
    {
     "data": {
      "text/plain": [
       "'../ResOpsUS/Setting/111/utils.py'"
      ]
     },
     "execution_count": 15,
     "metadata": {},
     "output_type": "execute_result"
    }
   ],
   "source": [
    "dataset_list = [ 133,  157,  163,  169,  191,  299,  316,  448,  471,  507,  508,\n",
    "        527,  533,  557,  595,  600,  907,  911,  931,  969,  993, 1068,\n",
    "       1070, 1109, 1128, 1183, 1202, 1245, 1585, 1615, 2186, 2193]\n",
    "results = pd.DataFrame(columns = ['Dataset_Number','Demand', 'Hydro', 'Flood', 'Loss', 'Main_Use',  ])\n",
    "G = pd.read_excel(\"../ResOpsUS/GRanD_dams_v1_3.xls\")\n",
    "\n",
    "setting_dir = '../ResOpsUS/Setting/'\n",
    "\n",
    "idx = len(os.listdir(setting_dir))\n",
    "\n",
    "setting_dir = '../ResOpsUS/Setting/' + str(idx) + '/'\n",
    "\n",
    "if not os.path.exists(setting_dir):\n",
    "    os.makedirs(setting_dir)\n",
    "\n",
    "for dataset_number in dataset_list:\n",
    "    data = np.array([])\n",
    "    \n",
    "    base_dir = '../ResOpsUS/data/' + str(dataset_number) + \"/\"\n",
    "    logs_dir = '../logs/ResOpsUS/' + str(dataset_number) + \"/\"\n",
    "\n",
    "    with open(logs_dir + 'res_non_stationary.pickle', 'rb') as f:\n",
    "        d = pickle.load(f)\n",
    "    \n",
    "    data = np.append(data, int(dataset_number))\n",
    "    data = np.append(data, d['irl_weight']['Sigma-Girl-Corrected'][0])\n",
    "    data = np.append(data, d['irl_weight']['Sigma-Girl-Corrected'][1])\n",
    "    data = np.append(data, d['irl_weight']['Sigma-Girl-Corrected'][2])\n",
    "    data = np.append(data, d['irl_loss']['Sigma-Girl-Corrected'])\n",
    "    data = pd.Series(data, index = ['Dataset_Number', 'Demand', 'Hydro', 'Flood', 'Loss'])\n",
    "    \n",
    "    data[\"Main_Use\"] = G.iloc[dataset_number - 1][\"MAIN_USE,C,25\"]\n",
    "    \n",
    "    objs = G.iloc[dataset_number - 1][[\"USE_IRRI,C,5\", \"USE_ELEC,C,5\",  \"USE_SUPP,C,5\", \"USE_FCON,C,5\", \"USE_RECR,C,5\"]]\n",
    "\n",
    "    main = objs[objs == \"Main\"].keys().values.tolist()[0]\n",
    "    main = switch_obj(main)\n",
    "\n",
    "    sec = \"\"\n",
    "    sec_vec = objs[objs == \"Sec\"].keys().values.tolist()\n",
    "\n",
    "    for obj in sec_vec:\n",
    "        sec += (switch_obj(obj) + \" - \")\n",
    "     \n",
    "    data[\"Sec_Use\"] = sec\n",
    "\n",
    "    results = results.append(data, ignore_index = True)\n",
    "    \n",
    "results.to_excel(setting_dir + \"results_\" + str(idx) + \".xls\")\n",
    "\n",
    "base_dir = '../ResOpsUS/utils.py'\n",
    "\n",
    "shutil.copyfile(base_dir, setting_dir + \"utils.py\")\n",
    "    "
   ]
  },
  {
   "cell_type": "code",
   "execution_count": 8,
   "id": "7655686c",
   "metadata": {},
   "outputs": [
    {
     "data": {
      "text/plain": [
       "[{'num_layers': 0,\n",
       "  'num_hidden': 8,\n",
       "  'state_std': False,\n",
       "  'num_regimes': 6,\n",
       "  'bc_losses': 8508.920861159804,\n",
       "  'irl_loss': {'Sigma-Girl-Full': None,\n",
       "   'Sigma-Girl-Diag': None,\n",
       "   'Sigma-Girl-Corrected': 1.4979253066140466e-06,\n",
       "   'Girl': 0.0023427839370538297},\n",
       "  'irl_weight': {'Sigma-Girl-Full': None,\n",
       "   'Sigma-Girl-Diag': None,\n",
       "   'Sigma-Girl-Corrected': array([0.57658297, 0.22768225, 0.19573478]),\n",
       "   'Girl': array([0.8873763, 0.       , 0.1126237])}}]"
      ]
     },
     "execution_count": 8,
     "metadata": {},
     "output_type": "execute_result"
    }
   ],
   "source": [
    "results = pd.DataFrame()\n",
    "results['Demand'] = d['irl_weight']['Sigma-Girl-Corrected'][0]\n",
    "results['Hydro'] = d['irl_weight']['Sigma-Girl-Corrected'][1]\n",
    "results['Flood'] = d['irl_weight']['Sigma-Girl-Corrected'][2]\n",
    "results['Loss'] = d['irl_loss']['Sigma-Girl-Corrected']"
   ]
  },
  {
   "cell_type": "code",
   "execution_count": 65,
   "id": "b943985f",
   "metadata": {},
   "outputs": [],
   "source": [
    "dataset_list = [55, 57, 60, 63, 87, 114, 116, 131, 132, 165, 182, 192, 198, 210, 293, 295, 300, 317, 320, 361, 362, 367, 368, 372, 374, 378, 382, 384, 385, 386, 398, 399, 413, 415, 416, 419, 421, 438, 442, 445, 449, 450, 456, 469, 470, 473, 477, 492, 493, 502, 506, 514, 517, 518, 519, 531, 536, 545, 546, 549, 554, 567, 572, 601, 604, 654, 780, 784, 868, 872, 893, 898, 936, 938, 939, 953, 956, 976, 987, 1095, 1242, \n",
    "                41, 42, 80, 89, 93, 204, 297, 305, 310, 364, 373, 405, 423, 541, 542, 597, 616, 913, 920, 929, 1044, 1053, 1112, 1269, 1283, 1291, 1292, 1297, 1752, 1754, 1756, 1758, 1768, 1774, 1787, 1801, 1817, 1823, 1834, 1835, 1851, 1872, 1879, 1883, 1896, 7306, 7308, 7313, 7318,\n",
    "                85, 56, 88, 90, 97, 99, 511, 613, 777, 798, 837, 854, 861, 924, 948, 955, 961, 962, 963, 964, 965, 967, 968, 972, 975, 979, 980, 981, 982, 989, 991, 998, 1000, 1001, 1003, 1006, 1007, 1014, 1016, 1017, 1019, 1020, 1021, 1023, 1027, 1028, 1032, 1033, 1048, 1050, 1060, 1077, 1084, 1092, 1093, 1101, 1120, 1121, 1122, 1123, 1124, 1125, 1134, 1135, 1140, 1144, 1186, 1194, 1220, 1236, 1237, 1247, 1277, 1280, 1294, 1296, 1302, 1586, 1587, 1592, 1600, 1606, 1617, 1619, 1620, 1631, 1636, 1645, 1650, 1654, 1655, 1659, 1683, 1691, 1699, 1703, 1706, 1707, 1709, 1712, 1713, 1714, 1716, 1718, 1723, 1726, 1733, 1735, 1739, 1740, 1741, 1742, 1744, 1755, 1761, 1762, 1763, 1765, 1767, 1770, 1775, 1776, 1777, 1781, 1800, 1818, 1828, 1833, 1843, 1846, 1848, 1855, 1862, 1864, 1869, 7311, 7317]\n"
   ]
  },
  {
   "cell_type": "code",
   "execution_count": 172,
   "id": "89275da2",
   "metadata": {},
   "outputs": [],
   "source": [
    "str_ = \"355 837 962 1140 1280 1296 85 989 1761 1800 1186 1220 1236 1247 1277 1302 1776 1782 56 88 90 92 97 99 100 107 148 307 338 390 391 393 511 613 740 753 836 854 861 870 884 895 924 948 952 955 957 961 963 964 965 967 968 972 974 975 979 980 981 982 991 998 1000 1001 1003 1006 1007 1014 1016 1017 1019 1021 1023 1026 1027 1028 1032 1033 1036 1042 1048 1050 1060 1067 1077 1084 1086 1093 1101 1120 1121 1122 1123 1124 1125 1134 1135 1144 1237 1586 1587 1592 1600 1606 1617 1619 1620 1631 1636 1645 1654 1655 1659 1683 1691 1699 1703 1706 1707 1709 1712 1713 1714 1716 1718 1723 1726 1733 1735 1739 1740 1741 1742 1744 1755 1765 1767 1770 1775 1781 1818 1828 1833 1841 1843 1846 1848 1855 1862 1863 1864 1869 7311 7317 163 600 907 911 969 1070 1128 1183 1202 1585 1615 2193\""
   ]
  },
  {
   "cell_type": "code",
   "execution_count": 205,
   "id": "f9e31d0b",
   "metadata": {},
   "outputs": [],
   "source": [
    "prova = [55, 57, 60, 63, 157, 292, 295, 319, 361, 368, 372, 374, 378, 385, 419, 470, 471, 473, 506, 519, 527, 536, 549, 654, 868, 931, 987, 93, 616, 920, 1291, 1292, 1817, 1823, 1800, 56, 88, 90, 99, 836, 854, 861, 957, 965, 972, 974, 982, 1000, 1017, 1019, 1021, 1027, 1101, 1237, 1586, 1587, 1592, 1600, 1606, 1617, 1619, 1620, 1631, 1636, 1645, 1654, 1691, 1699, 1706, 1709, 1712, 1713, 1718, 1726, 1733, 1735, 1740, 1741, 1843, 1848, 1855, 1864, 1869, 163, 907, 911, 969]\n"
   ]
  },
  {
   "cell_type": "code",
   "execution_count": 208,
   "id": "fcd7bcb3",
   "metadata": {},
   "outputs": [
    {
     "data": {
      "text/plain": [
       "89"
      ]
     },
     "execution_count": 208,
     "metadata": {},
     "output_type": "execute_result"
    }
   ],
   "source": [
    "len(prova)"
   ]
  },
  {
   "cell_type": "code",
   "execution_count": 207,
   "id": "1cfe2ebd",
   "metadata": {},
   "outputs": [],
   "source": [
    "new_one = [55, 57, 60, 63, 157, 165, 295, 317, 319, 320, 361, 368, 374, 378, 385, 386, 419, 445, 448, 470, 471, 473, 506, 527, 536, 549, 654, 868, 931, 987, 93, 204, 405, 616, 920, 1291, 1292, 1787, 1817, 1823, 56, 90, 99, 777, 836, 854, 861, 957, 965, 972, 974, 982, 1000, 1017, 1021, 1027, 1101, 1237, 1586, 1587, 1592, 1600, 1606, 1619, 1620, 1631, 1636, 1645, 1654, 1691, 1699, 1706, 1709, 1712, 1713, 1718, 1726, 1733, 1735, 1740, 1741, 1843, 1848, 1855, 1864, 1869, 163, 907, 911]\n"
   ]
  },
  {
   "cell_type": "code",
   "execution_count": 174,
   "id": "38b18820",
   "metadata": {},
   "outputs": [],
   "source": [
    "new_total = [55, 57, 60, 63, 87, 114, 116, 131, 132, 157, 182, 198, 210, 292, 293, 295, 300, 319, 361, 362, 367, 368, 372, 374, 378, 382, 384, 385, 398, 413, 416, 419, 421, 442, 449, 450, 469, 470, 471, 473, 477, 492, 502, 506, 514, 519, 527, 531, 536, 546, 549, 554, 567, 572, 595, 601, 604, 654, 780, 784, 868, 872, 893, 936, 938, 939, 953, 956, 976, 931, 1095, 1242, 192, 373, 987, 438, 456, 657, 898, 310, 542, 41, 42, 80, 89, 93, 297, 305, 364, 423, 541, 597, 616, 913, 920, 1044, 1053, 1112, 1269, 1283, 1291, 1292, 1297, 1752, 1758, 1768, 1817, 1823, 1834, 1835, 1851, 1872, 7306, 7308, 7313, 7318, 1774, 1801, 1879, 1896, 133, 299, 316, 993, 355, 837, 962, 1140, 1280, 1296, 85, 989, 1761, 1800, 1186, 1220, 1236, 1247, 1277, 1302, 1776, 1782, 56, 88, 90, 92, 97, 99, 100, 107, 148, 307, 338, 390, 391, 393, 511, 613, 740, 753, 836, 854, 861, 870, 884, 895, 924, 948, 952, 955, 957, 961, 963, 964, 965, 967, 968, 972, 974, 975, 979, 980, 981, 982, 991, 998, 1000, 1001, 1003, 1006, 1007, 1014, 1016, 1017, 1019, 1021, 1023, 1026, 1027, 1028, 1032, 1033, 1036, 1042, 1048, 1050, 1060, 1067, 1077, 1084, 1086, 1093, 1101, 1120, 1121, 1122, 1123, 1124, 1125, 1134, 1135, 1144, 1237, 1586, 1587, 1592, 1600, 1606, 1617, 1619, 1620, 1631, 1636, 1645, 1654, 1655, 1659, 1683, 1691, 1699, 1703, 1706, 1707, 1709, 1712, 1713, 1714, 1716, 1718, 1723, 1726, 1733, 1735, 1739, 1740, 1741, 1742, 1744, 1755, 1765, 1767, 1770, 1775, 1781, 1818, 1828, 1833, 1841, 1843, 1846, 1848, 1855, 1862, 1863, 1864, 1869, 7311, 7317, 163, 600, 907, 911, 969, 1070, 1128, 1183, 1202, 1585, 1615, 2193]\n"
   ]
  },
  {
   "cell_type": "code",
   "execution_count": 175,
   "id": "1c5a7184",
   "metadata": {},
   "outputs": [
    {
     "data": {
      "text/plain": [
       "290"
      ]
     },
     "execution_count": 175,
     "metadata": {},
     "output_type": "execute_result"
    }
   ],
   "source": [
    "len(new_total)"
   ]
  },
  {
   "cell_type": "code",
   "execution_count": 173,
   "id": "e9088d23",
   "metadata": {},
   "outputs": [
    {
     "data": {
      "text/plain": [
       "'355, 837, 962, 1140, 1280, 1296, 85, 989, 1761, 1800, 1186, 1220, 1236, 1247, 1277, 1302, 1776, 1782, 56, 88, 90, 92, 97, 99, 100, 107, 148, 307, 338, 390, 391, 393, 511, 613, 740, 753, 836, 854, 861, 870, 884, 895, 924, 948, 952, 955, 957, 961, 963, 964, 965, 967, 968, 972, 974, 975, 979, 980, 981, 982, 991, 998, 1000, 1001, 1003, 1006, 1007, 1014, 1016, 1017, 1019, 1021, 1023, 1026, 1027, 1028, 1032, 1033, 1036, 1042, 1048, 1050, 1060, 1067, 1077, 1084, 1086, 1093, 1101, 1120, 1121, 1122, 1123, 1124, 1125, 1134, 1135, 1144, 1237, 1586, 1587, 1592, 1600, 1606, 1617, 1619, 1620, 1631, 1636, 1645, 1654, 1655, 1659, 1683, 1691, 1699, 1703, 1706, 1707, 1709, 1712, 1713, 1714, 1716, 1718, 1723, 1726, 1733, 1735, 1739, 1740, 1741, 1742, 1744, 1755, 1765, 1767, 1770, 1775, 1781, 1818, 1828, 1833, 1841, 1843, 1846, 1848, 1855, 1862, 1863, 1864, 1869, 7311, 7317, 163, 600, 907, 911, 969, 1070, 1128, 1183, 1202, 1585, 1615, 2193'"
      ]
     },
     "execution_count": 173,
     "metadata": {},
     "output_type": "execute_result"
    }
   ],
   "source": [
    "str_.replace(\" \", \", \")"
   ]
  },
  {
   "cell_type": "code",
   "execution_count": 200,
   "id": "ada76e99",
   "metadata": {},
   "outputs": [],
   "source": [
    "file = open(\"/Users/Manuel/Desktop/irl_real_life/ResOpsUS/Results/results_new_total_one_3.pkl\", \"rb\")\n",
    "\n",
    "cluster = pickle.load(file)\n",
    "\n",
    "file.close()"
   ]
  },
  {
   "cell_type": "code",
   "execution_count": 201,
   "id": "ed376ede",
   "metadata": {},
   "outputs": [],
   "source": [
    "heatmap = cluster[5][0]"
   ]
  },
  {
   "cell_type": "code",
   "execution_count": 183,
   "id": "54ca1832",
   "metadata": {},
   "outputs": [],
   "source": [
    "import seaborn as sns"
   ]
  },
  {
   "cell_type": "code",
   "execution_count": 202,
   "id": "43d383f2",
   "metadata": {},
   "outputs": [
    {
     "data": {
      "text/plain": [
       "<AxesSubplot:>"
      ]
     },
     "execution_count": 202,
     "metadata": {},
     "output_type": "execute_result"
    },
    {
     "data": {
      "image/png": "[encoded data removed]",
      "text/plain": [
       "<Figure size 1440x288 with 2 Axes>"
      ]
     },
     "metadata": {
      "needs_background": "light"
     },
     "output_type": "display_data"
    }
   ],
   "source": [
    "fig, ax = plt.subplots(figsize=(20,4))         # Sample figsize in inches\n",
    "sns.heatmap(heatmap, cmap = \"seismic\", ax=ax)"
   ]
  },
  {
   "cell_type": "code",
   "execution_count": null,
   "id": "d04397ba",
   "metadata": {},
   "outputs": [],
   "source": []
  },
  {
   "cell_type": "code",
   "execution_count": 23,
   "id": "72a7147f",
   "metadata": {},
   "outputs": [
    {
     "data": {
      "text/plain": [
       "<AxesSubplot:>"
      ]
     },
     "execution_count": 23,
     "metadata": {},
     "output_type": "execute_result"
    },
    {
     "data": {
      "image/png": "[encoded data removed]",
      "text/plain": [
       "<Figure size 432x288 with 2 Axes>"
      ]
     },
     "metadata": {
      "needs_background": "light"
     },
     "output_type": "display_data"
    }
   ],
   "source": [
    "sns.heatmap(heatmap, cmap = \"seismic\")"
   ]
  },
  {
   "cell_type": "code",
   "execution_count": 180,
   "id": "1ed6255d",
   "metadata": {},
   "outputs": [
    {
     "data": {
      "text/plain": [
       "<AxesSubplot:>"
      ]
     },
     "execution_count": 180,
     "metadata": {},
     "output_type": "execute_result"
    },
    {
     "data": {
      "image/png": "[encoded data removed]",
      "text/plain": [
       "<Figure size 432x288 with 2 Axes>"
      ]
     },
     "metadata": {
      "needs_background": "light"
     },
     "output_type": "display_data"
    }
   ],
   "source": [
    "sns.heatmap(heatmap, cmap = \"seismic\")"
   ]
  },
  {
   "cell_type": "code",
   "execution_count": null,
   "id": "b9ab5882",
   "metadata": {},
   "outputs": [],
   "source": [
    "X = [0.9, 1.3, 2.2, 3.3, 5.0, 7.8, 13.3, 20.7]\n",
    "X = np.concatenate(X, [])\n",
    "\n",
    "X = np.array([[1, 1], [1, 2], [2, 2], [2, 3]])\n",
    "# y = 1 * x_0 + 2 * x_1 + 3\n",
    "y = np.dot(X, np.array([1, 2])) + 3\n",
    "reg = LinearRegression().fit(X, y)\n",
    "reg.score(X, y)\n"
   ]
  },
  {
   "cell_type": "code",
   "execution_count": 58,
   "id": "9e54ded6",
   "metadata": {},
   "outputs": [],
   "source": [
    "import numpy as np\n",
    "from sklearn.linear_model import LinearRegression\n",
    "\n",
    "X = np.array([0.9, 1.3, 2.2, 3.3, 5.0, 7.8, 13.3, 20.7])\n",
    "X = X.reshape(-1,1)\n",
    "X = np.concatenate((X, np.concatenate(([X[0,0]], X[:-1, 0])).reshape(-1,1)), axis = 1)\n",
    "X = np.concatenate((X, np.concatenate(([X[0,1]], X[:-1, 1])).reshape(-1,1)), axis = 1)\n",
    "X = np.concatenate((X, np.concatenate(([X[0,2]], X[:-1, 2])).reshape(-1,1)), axis = 1)\n",
    "\n",
    "y = X[2:,0]\n",
    "train = X[2:,1:-1]"
   ]
  },
  {
   "cell_type": "code",
   "execution_count": 46,
   "id": "ac74cdf9",
   "metadata": {},
   "outputs": [
    {
     "data": {
      "text/plain": [
       "array([[ 0.9,  0.9,  0.9,  0.9],\n",
       "       [ 1.3,  0.9,  0.9,  0.9],\n",
       "       [ 2.2,  1.3,  0.9,  0.9],\n",
       "       [ 3.3,  2.2,  1.3,  0.9],\n",
       "       [ 5. ,  3.3,  2.2,  1.3],\n",
       "       [ 7.8,  5. ,  3.3,  2.2],\n",
       "       [13.3,  7.8,  5. ,  3.3],\n",
       "       [20.7, 13.3,  7.8,  5. ]])"
      ]
     },
     "execution_count": 46,
     "metadata": {},
     "output_type": "execute_result"
    }
   ],
   "source": [
    "X"
   ]
  },
  {
   "cell_type": "code",
   "execution_count": 52,
   "id": "6855268b",
   "metadata": {},
   "outputs": [
    {
     "data": {
      "text/plain": [
       "array([ 3.3,  5. ,  7.8, 13.3, 20.7])"
      ]
     },
     "execution_count": 52,
     "metadata": {},
     "output_type": "execute_result"
    }
   ],
   "source": [
    "y"
   ]
  },
  {
   "cell_type": "code",
   "execution_count": 57,
   "id": "d54bc207",
   "metadata": {},
   "outputs": [
    {
     "data": {
      "text/plain": [
       "array([[ 2.2,  1.3],\n",
       "       [ 3.3,  2.2],\n",
       "       [ 5. ,  3.3],\n",
       "       [ 7.8,  5. ],\n",
       "       [13.3,  7.8]])"
      ]
     },
     "execution_count": 57,
     "metadata": {},
     "output_type": "execute_result"
    }
   ],
   "source": [
    "train"
   ]
  },
  {
   "cell_type": "code",
   "execution_count": 59,
   "id": "d75c6815",
   "metadata": {},
   "outputs": [],
   "source": [
    "reg = LinearRegression().fit(train, y)"
   ]
  },
  {
   "cell_type": "code",
   "execution_count": 63,
   "id": "3d31e05d",
   "metadata": {
    "scrolled": true
   },
   "outputs": [
    {
     "data": {
      "text/plain": [
       "array([34.54705168])"
      ]
     },
     "execution_count": 63,
     "metadata": {},
     "output_type": "execute_result"
    }
   ],
   "source": [
    "reg.predict(np.array([[20.7, 13.3]]))"
   ]
  },
  {
   "cell_type": "code",
   "execution_count": 64,
   "id": "c9ee32bb",
   "metadata": {},
   "outputs": [
    {
     "data": {
      "text/plain": [
       "0.9973489588106438"
      ]
     },
     "execution_count": 64,
     "metadata": {},
     "output_type": "execute_result"
    }
   ],
   "source": [
    "reg.score(train, y)"
   ]
  },
  {
   "cell_type": "code",
   "execution_count": 65,
   "id": "600c3f93",
   "metadata": {},
   "outputs": [
    {
     "data": {
      "text/plain": [
       "-0.342992140293493"
      ]
     },
     "execution_count": 65,
     "metadata": {},
     "output_type": "execute_result"
    }
   ],
   "source": [
    "reg.intercept_"
   ]
  },
  {
   "cell_type": "code",
   "execution_count": 66,
   "id": "abd11241",
   "metadata": {},
   "outputs": [
    {
     "data": {
      "text/plain": [
       "array([0.58357598, 1.71503917])"
      ]
     },
     "execution_count": 66,
     "metadata": {},
     "output_type": "execute_result"
    }
   ],
   "source": [
    "reg.coef_"
   ]
  },
  {
   "cell_type": "code",
   "execution_count": 29,
   "id": "3ea3e7e8",
   "metadata": {},
   "outputs": [
    {
     "data": {
      "text/plain": [
       "array([ 0.9,  0.9,  1.3,  2.2,  3.3,  5. ,  7.8, 13.3])"
      ]
     },
     "execution_count": 29,
     "metadata": {},
     "output_type": "execute_result"
    }
   ],
   "source": [
    "np.concatenate(([X[0,0]], X[:-1, 0]))"
   ]
  }
 ],
 "metadata": {
  "kernelspec": {
   "display_name": "Python 3",
   "language": "python",
   "name": "python3"
  },
  "language_info": {
   "codemirror_mode": {
    "name": "ipython",
    "version": 3
   },
   "file_extension": ".py",
   "mimetype": "text/x-python",
   "name": "python",
   "nbconvert_exporter": "python",
   "pygments_lexer": "ipython3",
   "version": "3.6.9"
  }
 },
 "nbformat": 4,
 "nbformat_minor": 5
}
